{
  "nbformat": 4,
  "nbformat_minor": 0,
  "metadata": {
    "colab": {
      "provenance": [],
      "authorship_tag": "ABX9TyP0sleglH4VpMwpqzFUFg12",
      "include_colab_link": true
    },
    "kernelspec": {
      "name": "python3",
      "display_name": "Python 3"
    },
    "language_info": {
      "name": "python"
    }
  },
  "cells": [
    {
      "cell_type": "markdown",
      "metadata": {
        "id": "view-in-github",
        "colab_type": "text"
      },
      "source": [
        "<a href=\"https://colab.research.google.com/github/TegarPermanaPutra/Algoritma-Pemrograman/blob/main/Variable_dan_Tipe_data.ipynb\" target=\"_parent\"><img src=\"https://colab.research.google.com/assets/colab-badge.svg\" alt=\"Open In Colab\"/></a>"
      ]
    },
    {
      "cell_type": "markdown",
      "source": [
        "# VARIABLE PYTHON\n",
        "\n",
        "Int = digunakan untuk mendeklarasikan angka (1-9).\n",
        "\n",
        "String = digunakan untuk mendeklarasikan sebuah huruf (a-z) dan tanda baca, string juga memiliki tanda petik (') pada value/nilainya.\n",
        "\n",
        "Float = digunakan untuk mendeklarasikan decimal (1,5 1,7 4,0 3,14)."
      ],
      "metadata": {
        "id": "QjJse15emnVF"
      }
    },
    {
      "cell_type": "code",
      "source": [
        "\n",
        "#Contoh pertama (int)\n",
        "\n",
        "a = 7\n",
        "b = 5\n",
        "c = (a+b)\n",
        "print(c)"
      ],
      "metadata": {
        "colab": {
          "base_uri": "https://localhost:8080/"
        },
        "id": "WUPSfksomREy",
        "outputId": "20db7e97-4e4b-4acd-ce1f-9235f76dc8a1"
      },
      "execution_count": null,
      "outputs": [
        {
          "output_type": "stream",
          "name": "stdout",
          "text": [
            "12\n"
          ]
        }
      ]
    },
    {
      "cell_type": "markdown",
      "source": [
        "- Pada contoh pertama dijelaskan pejumlahan dalam bentuk Intejer (int), yaitu pendeklarasian dalam bentuk angka (1-9)."
      ],
      "metadata": {
        "id": "D75XBqaVmyQD"
      }
    },
    {
      "cell_type": "code",
      "source": [
        "#Contoh kedua (str)\n",
        "\n",
        "a = \"law\"\n",
        "b = \"liet\"\n",
        "c = (a+b)\n",
        "print(c)"
      ],
      "metadata": {
        "colab": {
          "base_uri": "https://localhost:8080/"
        },
        "id": "Xa4754ggmx7C",
        "outputId": "b7243d9c-6ce4-4059-f28c-32beda3c8086"
      },
      "execution_count": null,
      "outputs": [
        {
          "output_type": "stream",
          "name": "stdout",
          "text": [
            "lawliet\n"
          ]
        }
      ]
    },
    {
      "cell_type": "markdown",
      "source": [
        "- Pada contoh kedua dijelaskan penjumlahan dalam bentuk String (str), yaitu pendeklarasian bentuk huruf (a-z) dan tanda baca. penggunaan string ditandai dengan penggunaan tanda kutip (')."
      ],
      "metadata": {
        "id": "TbBMFbYOnN7D"
      }
    },
    {
      "cell_type": "code",
      "source": [
        "#Contoh ketiga (float)\n",
        "\n",
        "a = 1.2\n",
        "b = 1.3\n",
        "c = (a+b)\n",
        "print(c)"
      ],
      "metadata": {
        "colab": {
          "base_uri": "https://localhost:8080/"
        },
        "id": "oW325RqenWEn",
        "outputId": "0ea77583-cbcc-4475-b312-c633ab5493b7"
      },
      "execution_count": null,
      "outputs": [
        {
          "output_type": "stream",
          "name": "stdout",
          "text": [
            "2.5\n"
          ]
        }
      ]
    },
    {
      "cell_type": "markdown",
      "source": [
        "- Pada contoh ketiga dijelaskan penjumlahan dalam bentuk float, yaitu pendeklarasian decimal. Penggunaan float di tandai dengan adanya bilangan desimal."
      ],
      "metadata": {
        "id": "I0khSMOwngdb"
      }
    },
    {
      "cell_type": "markdown",
      "source": [
        "OPERATOR ARITMATIKA\n",
        "\n",
        "1. Penjumlahan = +\n",
        "2. Pengurangan = -\n",
        "3. Perkalian = *\n",
        "4. Pembagian = /\n",
        "5. Perpangkatan (eksponen) = **\n",
        "6. Persen (modulus) = %"
      ],
      "metadata": {
        "id": "4-KgUWfhnm3N"
      }
    },
    {
      "cell_type": "code",
      "source": [
        "#Contoh penjumlahan (+)\n",
        "x = 10\n",
        "y = 5\n",
        "z = (x+y)\n",
        "print(z)\n",
        "\n",
        "\n",
        "#Contoh pengurangan (-)\n",
        "x = 10\n",
        "y = 5\n",
        "z = (x-y)\n",
        "print(z)\n",
        "\n",
        "\n",
        "#Contoh perkalian (*)\n",
        "x = 10\n",
        "y = 5\n",
        "z = (x*y)\n",
        "print(z)\n",
        "\n",
        "#Contoh pembagian (/)\n",
        "x = 10\n",
        "y = 5\n",
        "z = (x/y)\n",
        "print(z)\n",
        "\n",
        "#Contoh perpangkatan (**)\n",
        "x = 10\n",
        "y = 5\n",
        "z = (x**y)\n",
        "print(z)\n",
        "\n",
        "#Contoh persenan (%)\n",
        "x = 10\n",
        "y = 5\n",
        "z = (x%y)\n",
        "print(z)"
      ],
      "metadata": {
        "colab": {
          "base_uri": "https://localhost:8080/"
        },
        "id": "IqqOq-OGnrJY",
        "outputId": "3511c5f2-e827-4809-de31-3d6f4dc6befd"
      },
      "execution_count": 22,
      "outputs": [
        {
          "output_type": "stream",
          "name": "stdout",
          "text": [
            "15\n",
            "5\n",
            "50\n",
            "2.0\n",
            "100000\n",
            "0\n"
          ]
        }
      ]
    },
    {
      "cell_type": "markdown",
      "source": [
        "#OPERATOR PERBANDINGAN\n",
        "\n",
        "1. Lebih besar : >  (a>70 : 71-100)\n",
        "2. Lebih kecil : <  (a<70 : 69-0)\n",
        "3. Lebih besar sama dengan : >=  (a>=70 : 70-100)\n",
        "4. Lebih kecil sama dengan : <=  (a<=70 : 70-0)\n",
        "5. Tidak sama dengan : !=  (jelek!=bagus: true&false : ingkaran)\n",
        "6. Sama dengan sama : == (bagus==bagus: true)"
      ],
      "metadata": {
        "id": "gOhM7fLroqAO"
      }
    },
    {
      "cell_type": "code",
      "source": [
        "#Contoh lebih besar (>)\n",
        "\n",
        "#benar:\n",
        "x = 80\n",
        "y = 75\n",
        "z = (x>y)\n",
        "print(z)\n",
        "\n",
        "\n",
        "#salah:\n",
        "x = 70\n",
        "y = 75\n",
        "z = (x>y)\n",
        "print(z)"
      ],
      "metadata": {
        "colab": {
          "base_uri": "https://localhost:8080/"
        },
        "id": "AkX0337jo--s",
        "outputId": "62864386-6142-41bc-8f8e-49d70fb07bb3"
      },
      "execution_count": 11,
      "outputs": [
        {
          "output_type": "stream",
          "name": "stdout",
          "text": [
            "True\n",
            "False\n"
          ]
        }
      ]
    },
    {
      "cell_type": "markdown",
      "source": [
        "- Difungsikan untuk mencari nilai yang lebih besar."
      ],
      "metadata": {
        "id": "sh8rLo8spJzf"
      }
    },
    {
      "cell_type": "code",
      "source": [
        "#Contoh lebih kecil (<)\n",
        "\n",
        "#benar:\n",
        "x = 70\n",
        "y = 75\n",
        "z = (x<y)\n",
        "print(z)\n",
        "\n",
        "\n",
        "#salah:\n",
        "x = 80\n",
        "y = 75\n",
        "z = (x<y)\n",
        "print(z)"
      ],
      "metadata": {
        "colab": {
          "base_uri": "https://localhost:8080/"
        },
        "id": "aFQZtF4MpLcu",
        "outputId": "fc9e62de-275d-4c46-f87a-078988e14a1f"
      },
      "execution_count": 23,
      "outputs": [
        {
          "output_type": "stream",
          "name": "stdout",
          "text": [
            "True\n",
            "False\n"
          ]
        }
      ]
    },
    {
      "cell_type": "markdown",
      "source": [
        "- Di fungsikan untuk mencari nilai yang lebih kecil."
      ],
      "metadata": {
        "id": "zETikYH1pW8n"
      }
    },
    {
      "cell_type": "code",
      "source": [
        "#Contoh lebih besar sama dengan (>=)\n",
        "\n",
        "#benar:\n",
        "x = 75\n",
        "y = 75\n",
        "z = (x>=y)\n",
        "print(z)\n",
        "\n",
        "\n",
        "#salah:\n",
        "x = 70\n",
        "y = 75\n",
        "z = (x>=y)\n",
        "print(z)"
      ],
      "metadata": {
        "colab": {
          "base_uri": "https://localhost:8080/"
        },
        "id": "TFVVJ2RKpYNT",
        "outputId": "c9eef9c6-18ed-4bd5-dea9-f2d55079d9fd"
      },
      "execution_count": 17,
      "outputs": [
        {
          "output_type": "stream",
          "name": "stdout",
          "text": [
            "True\n",
            "False\n"
          ]
        }
      ]
    },
    {
      "cell_type": "markdown",
      "source": [
        "- Di fungsikan untuk mencari nilai yang lebih besar atau sama, dengan nilai sebelah kiri."
      ],
      "metadata": {
        "id": "IO_SYLXSpkUR"
      }
    },
    {
      "cell_type": "code",
      "source": [
        "#Contoh lebih kecil sama dengan (<=)\n",
        "\n",
        "#benar:\n",
        "x = 75\n",
        "y = 75\n",
        "z = (x<=y)\n",
        "print(z)\n",
        "\n",
        "\n",
        "#salah:\n",
        "x = 80\n",
        "y = 75\n",
        "z = (x<=y)\n",
        "print(z)"
      ],
      "metadata": {
        "colab": {
          "base_uri": "https://localhost:8080/"
        },
        "id": "VEbLiiNIplDq",
        "outputId": "265221cf-7602-4738-8e93-475b096af828"
      },
      "execution_count": 19,
      "outputs": [
        {
          "output_type": "stream",
          "name": "stdout",
          "text": [
            "True\n",
            "False\n"
          ]
        }
      ]
    },
    {
      "cell_type": "markdown",
      "source": [
        "- Di fungsikan untuk mencari nilai yang lebih kecil atau sama, dengan nilai sebelah kiri."
      ],
      "metadata": {
        "id": "DghIJ7J1plY9"
      }
    },
    {
      "cell_type": "code",
      "source": [
        "#Contoh tidak sama dengan (!=)\n",
        "\n",
        "#benar:\n",
        "x = \"jelek\"\n",
        "y = \"bagus\"\n",
        "z = (x!=y)\n",
        "print(z)\n",
        "\n",
        "\n",
        "#salah:\n",
        "x = \"bagus\"\n",
        "y = \"bagus\"\n",
        "z = (x!=y)\n",
        "print(z)"
      ],
      "metadata": {
        "colab": {
          "base_uri": "https://localhost:8080/"
        },
        "id": "WuJQng8DqJlE",
        "outputId": "054ad2f8-2327-4120-bbff-946847e52a16"
      },
      "execution_count": 20,
      "outputs": [
        {
          "output_type": "stream",
          "name": "stdout",
          "text": [
            "True\n",
            "False\n"
          ]
        }
      ]
    },
    {
      "cell_type": "markdown",
      "source": [
        "- Di fungsikan untuk menyatakan bahwasanya nilai antara sebelah kanan dan kiri berbeda/tidak sama."
      ],
      "metadata": {
        "id": "VYfJbF2uqbZ0"
      }
    },
    {
      "cell_type": "code",
      "source": [
        "#Contoh sama dengan sama (==)\n",
        "\n",
        "#benar:\n",
        "x = \"bagus\"\n",
        "y = \"bagus\"\n",
        "z = (x==y)\n",
        "print(z)\n",
        "\n",
        "\n",
        "#salah:\n",
        "x = \"jelek\"\n",
        "y = \"bagus\"\n",
        "z = (x==y)\n",
        "print(z)"
      ],
      "metadata": {
        "colab": {
          "base_uri": "https://localhost:8080/"
        },
        "id": "2HOh7LywqbpI",
        "outputId": "9fd910cd-3122-4b70-bcb2-d72b11eead43"
      },
      "execution_count": 21,
      "outputs": [
        {
          "output_type": "stream",
          "name": "stdout",
          "text": [
            "True\n",
            "False\n"
          ]
        }
      ]
    },
    {
      "cell_type": "markdown",
      "source": [
        "- Di fungsikan untuk menyatakan bahwasanya nilai antara sebelah kanan dan kiri sama."
      ],
      "metadata": {
        "id": "4jggsZsLqb2G"
      }
    }
  ]
}