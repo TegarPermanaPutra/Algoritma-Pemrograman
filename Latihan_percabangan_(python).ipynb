{
  "nbformat": 4,
  "nbformat_minor": 0,
  "metadata": {
    "colab": {
      "provenance": [],
      "authorship_tag": "ABX9TyPGmwaoz6HaCb0n3F9ntp4C",
      "include_colab_link": true
    },
    "kernelspec": {
      "name": "python3",
      "display_name": "Python 3"
    },
    "language_info": {
      "name": "python"
    }
  },
  "cells": [
    {
      "cell_type": "markdown",
      "metadata": {
        "id": "view-in-github",
        "colab_type": "text"
      },
      "source": [
        "<a href=\"https://colab.research.google.com/github/TegarPermanaPutra/Algoritma-Pemrograman/blob/main/Latihan_percabangan_(python).ipynb\" target=\"_parent\"><img src=\"https://colab.research.google.com/assets/colab-badge.svg\" alt=\"Open In Colab\"/></a>"
      ]
    },
    {
      "cell_type": "markdown",
      "source": [
        "#Soal 1:\n",
        " Penentuan Diskon Berdasarkan Jumlah Pembelian\n",
        "Deskripsi:\n",
        "Sebuah toko memberikan diskon kepada pelanggan berdasarkan jumlah pembelian mereka. Aturan diskon adalah sebagai berikut:\n",
        "\n",
        "Pembelian di bawah Rp100.000 tidak mendapat diskon.\n",
        "Pembelian antara Rp100.000 - Rp500.000 mendapat diskon 10%.\n",
        "Pembelian di atas Rp500.000 mendapat diskon 20%.\n"
      ],
      "metadata": {
        "id": "aaQgw5-VyDcO"
      }
    },
    {
      "cell_type": "code",
      "execution_count": null,
      "metadata": {
        "colab": {
          "base_uri": "https://localhost:8080/"
        },
        "id": "YQ4jJLJAxdzl",
        "outputId": "95595f39-6a26-4266-ced8-816e59abff48"
      },
      "outputs": [
        {
          "output_type": "stream",
          "name": "stdout",
          "text": [
            "Total Pembelian: Rp500.000\n",
            "selamat anda mendapatkan diskon sebesar 10%\n"
          ]
        }
      ],
      "source": [
        "#jawaban\n",
        "\n",
        "total = float(input(\"Total Pembelian: Rp\"))\n",
        "if total >= 100.000 and total <= 500.000:\n",
        "   print(\"selamat anda mendapatkan diskon sebesar 10%\")\n",
        "elif total >= 500.000:\n",
        "   print(\"selamat anda mendapatkan diskon sebesar 20%\")\n",
        "else:\n",
        "   print(\"maaf anda tidak mendapat diskon\")"
      ]
    },
    {
      "cell_type": "markdown",
      "source": [
        "#Soal 2:\n",
        " Klasifikasi Umur\n",
        "Deskripsi:\n",
        "Anda diminta membuat program untuk mengelompokkan seseorang berdasarkan umur. Aturannya:\n",
        "\n",
        "Umur 0-12 tahun: Anak-anak\n",
        "Umur 13-17 tahun: Remaja\n",
        "Umur 18-64 tahun: Dewasa\n",
        "Umur 65 tahun ke atas: Lansia"
      ],
      "metadata": {
        "id": "Z_lRxprb1dxE"
      }
    },
    {
      "cell_type": "code",
      "source": [
        "#jawaban\n",
        "\n",
        "umur = int(input(\"Silahkan masukan umur anda:\"))\n",
        "if umur <= 12:\n",
        "   print(\"Anak-anak\")\n",
        "elif umur >= 13 and umur <= 17:\n",
        "   print(\"Remaja\")\n",
        "elif umur >= 18 and umur <= 64:\n",
        "   print(\"Dewasa\")\n",
        "else:\n",
        "   print(\"Lansia\")\n"
      ],
      "metadata": {
        "colab": {
          "base_uri": "https://localhost:8080/"
        },
        "id": "gFodsJRO2Ip7",
        "outputId": "8e764488-0813-4d2a-d31e-dcd064501802"
      },
      "execution_count": null,
      "outputs": [
        {
          "output_type": "stream",
          "name": "stdout",
          "text": [
            "Silahkan masukan umur anda:15\n",
            "Remaja\n"
          ]
        }
      ]
    },
    {
      "cell_type": "markdown",
      "source": [
        "#Soal 3:\n",
        " Penilaian Nilai Siswa\n",
        "Deskripsi:\n",
        "Sebuah sekolah memiliki standar penilaian sebagai berikut:\n",
        "\n",
        "Nilai 90-100: Sangat Baik\n",
        "Nilai 70-89: Baik\n",
        "Nilai 50-69: Cukup\n",
        "Nilai di bawah 50: Kurang\n"
      ],
      "metadata": {
        "id": "4EvUDs5_3xr3"
      }
    },
    {
      "cell_type": "code",
      "source": [
        "#jawaban\n",
        "\n",
        "nilai = int(input(\"Silahkan masukan nilai anda:\"))\n",
        "if nilai >= 90 and nilai <= 100:\n",
        "   print(\"Sangat Baik\")\n",
        "elif nilai >= 70 and nilai <= 89:\n",
        "   print(\"Baik\")\n",
        "elif nilai >= 50 and nilai <= 69:\n",
        "   print(\"Cukup\")\n",
        "else:\n",
        "   print(\"Kurang\")"
      ],
      "metadata": {
        "colab": {
          "base_uri": "https://localhost:8080/"
        },
        "id": "xf2IBWXv3yCu",
        "outputId": "9f83591e-aca7-4dac-a89e-c504673c5fe7"
      },
      "execution_count": null,
      "outputs": [
        {
          "output_type": "stream",
          "name": "stdout",
          "text": [
            "Silahkan masukan nilai anda:98\n",
            "Sangat Baik\n"
          ]
        }
      ]
    },
    {
      "cell_type": "markdown",
      "source": [
        "#Soal 4:\n",
        "Pengecekan Tahun Kabisat\n",
        "Deskripsi:\n",
        "Anda diminta membuat program untuk menentukan apakah suatu tahun merupakan tahun kabisat. Aturannya:\n",
        "\n",
        "Tahun habis dibagi 4 adalah kabisat, kecuali tahun yang habis dibagi 100 tetapi tidak habis dibagi 400.\n"
      ],
      "metadata": {
        "id": "3_E3xywZ5lYX"
      }
    },
    {
      "cell_type": "code",
      "source": [
        "#jawaban\n",
        "\n",
        "tahun = int(input(\"Silahkan masukan tahun:\"))\n",
        "if tahun % 4 == 0:\n",
        " if tahun % 100 == 0:\n",
        "  if tahun % 400 == 0:\n",
        "      print(\"tahun kabisat\")\n",
        " else:\n",
        "      print(\"bukan tahun kabisat\")\n",
        "else:\n",
        "   print(\"tahun kabisat\")"
      ],
      "metadata": {
        "colab": {
          "base_uri": "https://localhost:8080/"
        },
        "id": "Lm3QKlxdAPnH",
        "outputId": "56338534-5f80-47ae-c299-b7afd4264444"
      },
      "execution_count": null,
      "outputs": [
        {
          "output_type": "stream",
          "name": "stdout",
          "text": [
            "Silahkan masukan tahun:1999\n",
            "tahun kabisat\n"
          ]
        }
      ]
    },
    {
      "cell_type": "markdown",
      "source": [
        "#Soal 5:\n",
        " Kalkulator Sederhana\n",
        "Deskripsi:\n",
        "Buat kalkulator sederhana yang dapat melakukan operasi tambah, kurang, kali, dan bagi. Program akan meminta pengguna memasukkan dua angka dan memilih operasi.\n"
      ],
      "metadata": {
        "id": "tJhtCS1n56oD"
      }
    },
    {
      "cell_type": "code",
      "source": [
        "#jawaban\n",
        "\n",
        "nilai1 = int(input(\"Silahkan masukan nilai pertama: \"))\n",
        "nilai2 = int(input(\"Silahkan masukan nilai kedua: \"))\n",
        "operasi = input(\"Silahkan masukan operasi yang akan dilakukan: \")\n",
        "if operasi == \"+\":\n",
        "   print(nilai1 + nilai2)\n",
        "elif operasi == \"-\":\n",
        "   print(nilai1 - nilai2)\n",
        "elif operasi == \"*\":\n",
        "   print(nilai1 * nilai2)\n",
        "elif operasi == \"/\":\n",
        "   print(nilai1 / nilai2)\n",
        "else:\n",
        "   print(\"perhitungan tidak valid\")"
      ],
      "metadata": {
        "colab": {
          "base_uri": "https://localhost:8080/"
        },
        "id": "ogPoZ4f0569B",
        "outputId": "dea2ee76-1eb4-480c-ffc7-d29f928ee9f0"
      },
      "execution_count": 85,
      "outputs": [
        {
          "output_type": "stream",
          "name": "stdout",
          "text": [
            "Silahkan masukan nilai pertama: 10\n",
            "Silahkan masukan nilai kedua: 10\n",
            "Silahkan masukan operasi yang akan dilakukan: *\n",
            "100\n"
          ]
        }
      ]
    }
  ]
}