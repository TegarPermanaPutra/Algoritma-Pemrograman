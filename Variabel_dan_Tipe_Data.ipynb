{
  "nbformat": 4,
  "nbformat_minor": 0,
  "metadata": {
    "colab": {
      "provenance": [],
      "authorship_tag": "ABX9TyNuPasAGbRMJwnJfa+mAv+0",
      "include_colab_link": true
    },
    "kernelspec": {
      "name": "python3",
      "display_name": "Python 3"
    },
    "language_info": {
      "name": "python"
    }
  },
  "cells": [
    {
      "cell_type": "markdown",
      "metadata": {
        "id": "view-in-github",
        "colab_type": "text"
      },
      "source": [
        "<a href=\"https://colab.research.google.com/github/TegarPermanaPutra/Algoritma-Pemrograman/blob/main/Variabel_dan_Tipe_Data.ipynb\" target=\"_parent\"><img src=\"https://colab.research.google.com/assets/colab-badge.svg\" alt=\"Open In Colab\"/></a>"
      ]
    },
    {
      "cell_type": "markdown",
      "source": [
        "# VARIABEL PYTHON\n",
        "\n",
        "Int = digunakan untuk mendeklarasikan angka (1-9).\n",
        "\n",
        "String = digunakan untuk mendeklarasikan sebuah (a-z) dan tanda baca, string juga memiliki tanda petik (') pada value/nilainya.\n",
        "\n",
        "Float = digunakan untuk mendeklarasikan decimal (1,5 1,7 4,0 3,14)."
      ],
      "metadata": {
        "id": "lnVjebySakzr"
      }
    },
    {
      "cell_type": "code",
      "execution_count": null,
      "metadata": {
        "id": "PTWkAavxWkUl"
      },
      "outputs": [],
      "source": [
        "#contohpertama (int)\n",
        "\n",
        "a = 7\n",
        "b = 5\n",
        "c = (a+b)\n",
        "print = (c)"
      ]
    },
    {
      "cell_type": "markdown",
      "source": [
        "Pada contoh pertama dijelaskan pejumlahan dalam bentuk Intejer (int), yaitu pendeklarasian dalam bentuk angka (1-9)."
      ],
      "metadata": {
        "id": "T5Osn__fdO3A"
      }
    },
    {
      "cell_type": "code",
      "source": [
        "#contohkedua (str)\n",
        "\n",
        "a = 'Heat'\n",
        "b = 'Waves'\n",
        "c = (a+b)\n",
        "print = (c)"
      ],
      "metadata": {
        "id": "V1nofpgRb7al"
      },
      "execution_count": null,
      "outputs": []
    },
    {
      "cell_type": "markdown",
      "source": [
        "\n",
        "Pada contoh kedua dijelaskan penjumlahan dalam bentuk String (str), yaitu pendeklarasian bentuk huruf (a-z) dan tanda baca. penggunaan string ditandai dengan penggunaan tanda kutip (')."
      ],
      "metadata": {
        "id": "oO03CStKdrma"
      }
    },
    {
      "cell_type": "code",
      "source": [
        "#contohketiga (float)\n",
        "\n",
        "a = 1.2\n",
        "b = 1.3\n",
        "c = (a+b)\n",
        "print = (c)"
      ],
      "metadata": {
        "id": "pMtpYVIhcK5G"
      },
      "execution_count": null,
      "outputs": []
    },
    {
      "cell_type": "markdown",
      "source": [
        "Pada contoh ketiga dijelaskan penjumlahan dalam bentuk float, yaitu pendeklarasian decimal. Penggunaan float di tandai dengan adanya bilangan desimal."
      ],
      "metadata": {
        "id": "1x3emM3Ne5VJ"
      }
    },
    {
      "cell_type": "markdown",
      "source": [
        "#OPERATOR ARITMATIKA\n",
        "\n",
        "1. Penjumlahan = +\n",
        "2. Pengurangan = -\n",
        "3. Perkalian = *\n",
        "4. Pembagian = /\n",
        "5. Perpangkatan (eksponen) = **\n",
        "6. Persen (modulus) = %"
      ],
      "metadata": {
        "id": "mReARSi7zvtC"
      }
    },
    {
      "cell_type": "code",
      "source": [
        "#Contoh Penjumlahan (+)\n",
        "\n",
        "a = 10\n",
        "b = 2\n",
        "c = (a + b)\n",
        "print = (c)\n",
        "\n",
        "\n",
        "#Contoh Pengurangan (-)\n",
        "\n",
        "a = 10\n",
        "b = 2\n",
        "c = (a - b)\n",
        "print = (c)\n",
        "\n",
        "\n",
        "#Contoh Perkalian (*)\n",
        "\n",
        "a = 10\n",
        "b = 2\n",
        "c = (a * b)\n",
        "print = (c)\n",
        "\n",
        "#Contoh Pembagian (/)\n",
        "\n",
        "a = 10\n",
        "b = 2\n",
        "c = (a / b)\n",
        "print = (c)\n",
        "\n",
        "#Contoh Perpangkatan/eksponen (**)\n",
        "\n",
        "a = 10\n",
        "b = 2\n",
        "c = (a ** b)\n",
        "print = (c)\n",
        "\n",
        "\n",
        "#Contoh Persen/modulus (%)\n",
        "\n",
        "a = 10\n",
        "b = 2\n",
        "c = (a % b)\n",
        "print = (c)"
      ],
      "metadata": {
        "id": "RJ8qOgwL0qxE"
      },
      "execution_count": null,
      "outputs": []
    },
    {
      "cell_type": "markdown",
      "source": [
        "#OPERATOR PERBANDINGAN\n",
        "\n",
        "1. Lebih besar : >  (a>70 : 71-100)\n",
        "2. Lebih kecil : <  (a<70 : 69-0)\n",
        "3. Lebih besar sama dengan : >=  (a>=70 : 70-100)\n",
        "4. Lebih kecil sama dengan : <=  (a<=70 : 70-0)\n",
        "5. Tidak sama dengan : !=  (jelek!=bagus: true&false : ingkaran)\n",
        "6. Sama dengan sama : == (bagus==bagus: true)"
      ],
      "metadata": {
        "id": "CCtWKbxp2mc0"
      }
    },
    {
      "cell_type": "code",
      "source": [
        "#Contoh lebih besar (>)\n",
        "\n",
        "#benar:\n",
        "x = 80\n",
        "y = 75\n",
        "z = (x > y)\n",
        "print = (z)\n",
        "\n",
        "\n",
        "#salah:\n",
        "x = 70\n",
        "y = 75\n",
        "z = (x > y)\n",
        "print = (z)"
      ],
      "metadata": {
        "id": "yDEncsFqJpS8"
      },
      "execution_count": null,
      "outputs": []
    },
    {
      "cell_type": "markdown",
      "source": [
        "- Difungsikan untuk mencari nilai yang lebih besar"
      ],
      "metadata": {
        "id": "0IdyfbW876Kx"
      }
    },
    {
      "cell_type": "code",
      "source": [
        "#Contoh lebih kecil (<)\n",
        "\n",
        "#benar:\n",
        "x = 60\n",
        "y = 75\n",
        "z = (x < y)\n",
        "print = (z)\n",
        "\n",
        "\n",
        "#salah:\n",
        "x = 80\n",
        "y = 75\n",
        "z = (x < y)\n",
        "print = (z)"
      ],
      "metadata": {
        "id": "l7FGeYQ1Qz2t"
      },
      "execution_count": null,
      "outputs": []
    },
    {
      "cell_type": "markdown",
      "source": [
        "- Di fungsikan untuk mencari nilai yang lebih kecil"
      ],
      "metadata": {
        "id": "igIB4RkL8Ajx"
      }
    },
    {
      "cell_type": "code",
      "source": [
        "#Contoh lebih besar sama dengan (>=)\n",
        "\n",
        "#benar:\n",
        "x = 75\n",
        "y = 70\n",
        "z = (x >= y)\n",
        "print = (z)\n",
        "\n",
        "\n",
        "#salah:\n",
        "x = 70\n",
        "y = 75\n",
        "z = (x >= y)\n",
        "print = (z)"
      ],
      "metadata": {
        "id": "kJ8_6x7ZDWCD"
      },
      "execution_count": null,
      "outputs": []
    },
    {
      "cell_type": "markdown",
      "source": [
        "- Di fungsikan untuk mencari nilai yang lebih besar atau sama dengan nilai sebelah kanan."
      ],
      "metadata": {
        "id": "0P0iowuU8TCw"
      }
    },
    {
      "cell_type": "code",
      "source": [
        "#Contoh lebih kecil sama dengan (<=)\n",
        "\n",
        "#benar:\n",
        "x = 70\n",
        "y = 75\n",
        "z = (x <= y)\n",
        "print = (z)\n",
        "\n",
        "\n",
        "#salah:\n",
        "x = 75\n",
        "y = 70\n",
        "z = (x <= y)\n",
        "print = (z)"
      ],
      "metadata": {
        "id": "yvxgw_eZ9CF4"
      },
      "execution_count": null,
      "outputs": []
    },
    {
      "cell_type": "markdown",
      "source": [
        "- Di fungsikan untuk mencari nilai yang lebih kecil atau sama dengan nilai sebelah kanan."
      ],
      "metadata": {
        "id": "-Zk8p_AY8-fa"
      }
    },
    {
      "cell_type": "code",
      "source": [
        "#Contoh tidak sama dengan (!=)\n",
        "\n",
        "#benar:\n",
        "x = \"jelek\"\n",
        "y = \"bagus\"\n",
        "z = (x != y)\n",
        "print = (z)\n",
        "\n",
        "\n",
        "#salah:\n",
        "x = \"bagus\"\n",
        "y = \"bagus\"\n",
        "z = (x != y)\n",
        "print = (z)"
      ],
      "metadata": {
        "id": "oU-7E03_w1ir"
      },
      "execution_count": null,
      "outputs": []
    },
    {
      "cell_type": "markdown",
      "source": [
        "- Di fungsikan untuk menyatakan bahwasanya nilai antara sebelah kanan dan kiri berbeda/tidak sama."
      ],
      "metadata": {
        "id": "P9GUJB-g9WRX"
      }
    },
    {
      "cell_type": "code",
      "source": [
        "#Contoh sama dengan sama (==)\n",
        "\n",
        "#benar:\n",
        "x = \"bagus\"\n",
        "y = \"bagus\"\n",
        "z = (x == y)\n",
        "print = (z)\n",
        "\n",
        "\n",
        "#salah:\n",
        "x = \"jelek\"\n",
        "y = \"bagus\"\n",
        "z = (x == y)\n",
        "print = (z)"
      ],
      "metadata": {
        "id": "7s5pF_1FxtFm"
      },
      "execution_count": null,
      "outputs": []
    },
    {
      "cell_type": "markdown",
      "source": [
        "- Di fungsikan untuk menyatakan bahwasanya nilai antara sebelah kanan dan kiri sama."
      ],
      "metadata": {
        "id": "gBZO6CrA9XFR"
      }
    }
  ]
}