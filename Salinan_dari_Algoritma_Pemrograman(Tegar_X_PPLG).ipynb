{
  "nbformat": 4,
  "nbformat_minor": 0,
  "metadata": {
    "colab": {
      "provenance": [],
      "authorship_tag": "ABX9TyP2ZX1gcygVkhqnGOZQ91Dp",
      "include_colab_link": true
    },
    "kernelspec": {
      "name": "python3",
      "display_name": "Python 3"
    },
    "language_info": {
      "name": "python"
    }
  },
  "cells": [
    {
      "cell_type": "markdown",
      "metadata": {
        "id": "view-in-github",
        "colab_type": "text"
      },
      "source": [
        "<a href=\"https://colab.research.google.com/github/TegarPermanaPutra/Algoritma-Pemrograman/blob/main/Salinan_dari_Algoritma_Pemrograman(Tegar_X_PPLG).ipynb\" target=\"_parent\"><img src=\"https://colab.research.google.com/assets/colab-badge.svg\" alt=\"Open In Colab\"/></a>"
      ]
    },
    {
      "cell_type": "markdown",
      "source": [
        "**\"ALGORITMA PEMROGRAMAN\n",
        "MEMAHAMI DASAR-DASAR DAN IMPLEMENTASINYA\"**\n",
        "\n",
        "Algoritma adalah urutan langkah-langkah logis yang digunakan untuk menyelesaikan masalah. Sedangkan pemrograman Adalah kumpulan instruksi-instruksi tersendiri yang biasanya disebut source code yang\n",
        "dibuat oleh programmer (pembuat program)."
      ],
      "metadata": {
        "id": "3-DR5UVgV3kq"
      }
    },
    {
      "cell_type": "markdown",
      "source": [
        "\n",
        "**PARADIGMA PEMROGRAMAN :**\n",
        "\n",
        "1. Pemrograman Prosedural\n",
        "2. Pemrograman Fungsional\n",
        "3. Pemrograman Terstruktur\n",
        "4. Pemrograman Modular\n",
        "5. Pemrograman Berorientasi Obyek\n",
        "6. Pemrograman Berorientasi Fungsi\n",
        "7. Pemrograman Deklaratif"
      ],
      "metadata": {
        "id": "VoEgExYzZKpk"
      }
    },
    {
      "cell_type": "markdown",
      "source": [
        "\n",
        "**STRUKTUR SISTEM KOMPUTER**\n",
        "\n",
        "(Brainware : Pemakai) --> (Software : Sistem Operasi, Bhs. Pemrograman, dan Program Aplikasi) --> (Hardware : Komputer)"
      ],
      "metadata": {
        "id": "hejFWATMbuLT"
      }
    },
    {
      "cell_type": "markdown",
      "source": [
        "**SIKLUS HIDUP HIDUP PERANGKAT LUNAK (SOFTWARE)**\n",
        "\n",
        "\n",
        "[Requirement] -> [Desain] -> [Implementasi] -> [Testing]"
      ],
      "metadata": {
        "id": "86TdYLrmdN1Y"
      }
    },
    {
      "cell_type": "markdown",
      "source": [
        "**\"SEJARAH ALGORITMA\"**\n",
        "\n",
        "Asal kata Algoritma berasal dari nama Abu Ja’far Mohammed Ibn Musa al-Khowarizmi, ilmuan\n",
        "Persia abad ke-9 yang menulis kitab al jabr w’al-muqabala (rules of restoration and reduction) sekitar\n",
        "tahun 825 M."
      ],
      "metadata": {
        "id": "BkePLFfJeTzW"
      }
    },
    {
      "cell_type": "markdown",
      "source": [
        "**# Algoritma di Dunia Kuno**\n",
        "\n",
        "- Tabel perhitungan Babilonia (sekitar 1600 SM) menunjukkan teknik-teknik komputasi dasar.\n",
        "- Euclid (abad ke-3 SM) menyusun algoritma yang terkenal, Algoritma Euclid, untuk\n",
        "menemukan pembagi terbesar dua bilangan."
      ],
      "metadata": {
        "id": "SJBvKEW6ftrH"
      }
    },
    {
      "cell_type": "markdown",
      "source": [
        "**# Algoritma dalam Matematika Klasik**\n",
        "\n",
        "-  berfokus pada\n",
        "aritmatika, terutama di bidang perhitungan manual.\n",
        "\n",
        "-  John Napier, matematikawan Skotlandia pada awal abad ke-17, memperkenalkan\n",
        "logaritma dan Blaise Pascal.\n",
        "- Gottfried Wilhelm Leibniz di abad ke-17  yang juga mengembangkan\n",
        "mesin mekanik berbasis algoritma untuk melakukan komputasi aritmetika."
      ],
      "metadata": {
        "id": "4Nn6TbCjpPob"
      }
    },
    {
      "cell_type": "markdown",
      "source": [
        "**# Revolusi Algoritma dan Komputer**\n",
        "\n",
        "- Charles\n",
        "Babbage, seorang matematikawan Inggris di abad ke-19, merancang Mesin Analitik,\n",
        "yang dianggap sebagai komputer mekanik pertama.\n",
        "\n",
        "- Ada Lovelace, seorang ahli matematika Inggris dan kolaborator Babbage, dianggap\n",
        "sebagai programmer pertama di dunia. Dia menulis deskripsi rinci tentang bagaimana\n",
        "mesin tersebut dapat menjalankan serangkaian instruksi untuk menyelesaikan masalah,\n",
        "yang kini dikenal sebagai \"algoritma pemrograman."
      ],
      "metadata": {
        "id": "IHBiJMhfiPWP"
      }
    },
    {
      "cell_type": "markdown",
      "source": [
        "**# Algoritma di Era Komputasi Modern**\n",
        "\n",
        "- Alan Turing, yang dikenal sebagai bapak ilmu komputer modern, mengembangkan\n",
        "model komputasi teoretis yang disebut Mesin Turing pada tahun 1936.\n",
        "\n",
        "- John von Neumann juga memberikan kontribusi besar berupa, merancang arsitektur komputasi yang mendukung eksekusi algoritma\n",
        "secara efisien."
      ],
      "metadata": {
        "id": "Q5pr11H2jMWA"
      }
    },
    {
      "cell_type": "markdown",
      "source": [
        "**# Algortima di Dunia Digital**\n",
        "\n",
        "- Algoritma Sorting seperti Bubble Sort, Quick Sort, dan Merge Sort mulai\n",
        "dikembangkan untuk mengatur data secara efisien.\n",
        "\n",
        "\n",
        "- Algoritma Kriptografi, seperti RSA (Rivest-Shamir-Adleman), dikembangkan pada\n",
        "1970-an untuk mengamankan data di dunia digital, yang menjadi dasar dari komunikasi\n",
        "yang aman saat ini."
      ],
      "metadata": {
        "id": "wRM3JKhOgsVu"
      }
    },
    {
      "cell_type": "markdown",
      "source": [
        "**# Algoritma di Era Kecerdasan Buatan (AI)**\n",
        "\n",
        "- Algoritma Neural Networks dan Deep Learning memungkinkan komputer untuk \"belajar\"\n",
        "dari data dan membuat keputusan yang kompleks."
      ],
      "metadata": {
        "id": "CnNScl4JkLal"
      }
    },
    {
      "cell_type": "markdown",
      "source": [
        "**# Algoritma di Masa Depan**\n",
        "\n",
        "- algoritma terus berkembang dengan peningkatan dalam komputasi\n",
        "kuantum, pengenalan pola, dan optimasi sistem kompleks."
      ],
      "metadata": {
        "id": "XMGVzG_Vklr0"
      }
    },
    {
      "cell_type": "markdown",
      "source": [
        "**JENIS PROSES ALGORITMA :**\n",
        "\n",
        "\n",
        "1. Sequence Process: instruksi dikerjakan secara sekuensial, berurutan.\n",
        "\n",
        "2. Selection Process: instruksi dikerjakan jika memenuhi kriteria tertentu.\n",
        "\n",
        "3. Iteration Process: instruksi dikerjakan selama memenuhi suatu kondisi tertentu.\n",
        "\n",
        "4. Concurrent Process: beberapa instruksi dikerjakan secara bersama."
      ],
      "metadata": {
        "id": "wHfpALiPlpiG"
      }
    },
    {
      "cell_type": "markdown",
      "source": [
        "**LANGKAH PENYUSUN ALGORITMA :**\n",
        "\n",
        "1. Identifikasi masalah.\n",
        "\n",
        "2. Tentukan input dan output.\n",
        "\n",
        "3. Definisikan langkah-langkah dalam urutan logis.\n",
        "\n",
        "4. Periksa solusi untuk memastikan hasil yang diinginkan."
      ],
      "metadata": {
        "id": "Rdap65Dfm48i"
      }
    },
    {
      "cell_type": "markdown",
      "source": [
        "**Kesimpulan**\n",
        "\n",
        "Algoritma sangat berguna bagi ilmu komputer maupun kehidupan sehari-hari dikarenakan langkah-langkah sistematisnya dalam penyelesaian suatu masalah."
      ],
      "metadata": {
        "id": "hDyMHhwznmNg"
      }
    },
    {
      "cell_type": "markdown",
      "source": [
        "**SOAL LATIHAN**\n",
        "\n",
        "1. Siapa tokoh yang menjadi asal usul dari istilah \"algoritma,\" dan apa\n",
        "kontribusi utamanya dalam perkembangan ilmu matematika?\n",
        "\n",
        "2. Algoritma Euclid adalah salah satu algoritma paling awal yang masih\n",
        "digunakan hingga saat ini. Untuk apa algoritma ini digunakan?\n",
        "\n",
        "3. Siapa yang dianggap sebagai programmer pertama di dunia, dan mesin\n",
        "komputasi apa yang ia bantu deskripsikan untuk menjalankan algoritma?\n",
        "\n",
        "4. Apa kontribusi utama Alan Turing dalam sejarah algoritma, dan apa\n",
        "konsep penting yang diperkenalkannya dalam teori komputasi?\n",
        "\n",
        "5. Algoritma apa yang banyak digunakan dalam kecerdasan buatan dan\n",
        "machine learning untuk mengajarkan mesin mengenali pola dari data?"
      ],
      "metadata": {
        "id": "MwKkz7JbG3bJ"
      }
    },
    {
      "cell_type": "markdown",
      "source": [
        "**JAWABAN**\n",
        "\n",
        "1. Kata \"algoritma\" berasal dari nama Seorang ahli matematika Persia, Abu Abdullah Muhammad ibn Musa Al-Khawarizmi. Dalam Matematika ia dikenal sebagai Ilmuwan yang memperkenalkan konsep Algoritma (utama), aljabar, dll.\n",
        "\n",
        "2. Algoritma euclid, digunakan untuk menemukan Pembagi terbesar dua bilangan.\n",
        "\n",
        "3. Ada Lovelace, Seorang ahli matematika inggris adalah Programmer Pertama di dunia, la menggunakan mesin Analitik milik charles babbage untuk menjalankan algoritma.\n",
        "\n",
        "4. Alan Turing, yang dikenal sebagai bapak Ilmu Komputer modern, mengembangkan model Komputasi teoritis yang disebut \"Mesin Turing\" Pada tahun 1936. Turing mengkonseptualisasikan ide bahwa Setiap proses komputasi dapat dipecah menjadi Serangkaian langkah algoritmis.\n",
        "\n",
        "5. Algoritma Neural Networks dan Deep Learning memungkinkan Komputer untuk belajar dari data dan membuat Keputusan yang nompleks."
      ],
      "metadata": {
        "id": "OycfFY-LIHAc"
      }
    }
  ]
}