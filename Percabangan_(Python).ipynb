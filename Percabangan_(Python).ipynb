{
  "nbformat": 4,
  "nbformat_minor": 0,
  "metadata": {
    "colab": {
      "provenance": [],
      "authorship_tag": "ABX9TyNkdOt3XDDkX3WtZ1AEGdL6",
      "include_colab_link": true
    },
    "kernelspec": {
      "name": "python3",
      "display_name": "Python 3"
    },
    "language_info": {
      "name": "python"
    }
  },
  "cells": [
    {
      "cell_type": "markdown",
      "metadata": {
        "id": "view-in-github",
        "colab_type": "text"
      },
      "source": [
        "<a href=\"https://colab.research.google.com/github/TegarPermanaPutra/Algoritma-Pemrograman/blob/main/Percabangan_(Python).ipynb\" target=\"_parent\"><img src=\"https://colab.research.google.com/assets/colab-badge.svg\" alt=\"Open In Colab\"/></a>"
      ]
    },
    {
      "cell_type": "markdown",
      "source": [
        "#PERCABANGAN\n",
        "\n",
        "Percabangan adalah proses yang difungsikan untuk mengambil sebuah pernyataan/keputusan pada suatu kondisi pada program. Percabangan pada python umunya menggunakan 3 jenis pernyataan/keputusan yaitu **if, elif, dan else** :\n",
        "\n",
        "#IF\n",
        "if adalah kata kunci dalam python yang digunakan untuk membuat suatu pernyataan/keputusan secara kondisional. Jika hasilnya \"true\" maka blok kode yang berada di bawahnya akan dijalankan. Jika hasilnya \"false\"\n",
        "maka blok kode yang berada di bawahnya akan di lewatkan.\n",
        "\n",
        "\n",
        "#ELIF\n",
        "else if/elif adalah kata kunci yang digunakan untuk menangkap semua kasus yang telah di lewati atau tidak cocok pada if. Elif difungsikan untuk menambahkan kondisi lainnya pada program (opsional).\n",
        "\n",
        "#ELSE\n",
        "else adalah kata kunci yang digunakan untuk menangkap semua kasus yang tidak sesuai atau di lewati oleh if dan elif. Else difungsikan untuk menangkap hasil \"false\" yang dihasilkan dari if dan elif."
      ],
      "metadata": {
        "id": "s7MDDvBS9LkR"
      }
    },
    {
      "cell_type": "markdown",
      "source": [
        "Berikut beberapa contoh percabangan dalam menyelesaikan,menyatakan,atau memutuskan suatu kondisi :"
      ],
      "metadata": {
        "id": "O4tcILklvxa7"
      }
    },
    {
      "cell_type": "code",
      "source": [
        "#Contoh percabangan 1 kondisi\n",
        "\n",
        "angka = int(input(\"masukan angka: \"))\n",
        "if angka < 0:\n",
        "   print(\"This number is negative  !\") #true"
      ],
      "metadata": {
        "colab": {
          "base_uri": "https://localhost:8080/"
        },
        "id": "38zraq31i-mS",
        "outputId": "94ea24b2-a6fb-4046-b2f7-7ddde0ef669b"
      },
      "execution_count": null,
      "outputs": [
        {
          "output_type": "stream",
          "name": "stdout",
          "text": [
            "masukan angka: -5\n",
            "This number is negative  !\n"
          ]
        }
      ]
    },
    {
      "cell_type": "code",
      "source": [
        "#Contoh percabangan 2 kondisi\n",
        "\n",
        "nama1 = 'dinda'\n",
        "nama2 = 'dani'\n",
        "\n",
        "if nama1 != nama2:\n",
        "    print(\"Nama tidak terdeteksi\") #true\n",
        "else:\n",
        "    print(\"Nama terdeteksi\") #false"
      ],
      "metadata": {
        "colab": {
          "base_uri": "https://localhost:8080/"
        },
        "id": "3O0aYryoibo9",
        "outputId": "bb8de78a-82eb-47b2-ba54-2f332941496a"
      },
      "execution_count": 20,
      "outputs": [
        {
          "output_type": "stream",
          "name": "stdout",
          "text": [
            "Nama tidak terdeteksi\n"
          ]
        }
      ]
    },
    {
      "cell_type": "code",
      "source": [
        "#Contoh percabangan 3 kondisi\n",
        "\n",
        "tinggi = int(input(\"Silahkan masukan tinggi badan: \"))\n",
        "if tinggi >= 180:\n",
        "   print(\"tingi anda di atas rata-rata\") #true\n",
        "elif tinggi >= 160:\n",
        "   print(\"tinggi anda rata-rata\") #true&false\n",
        "else:\n",
        "   print(\"tinggi anda di bawah rata-rata\") #false"
      ],
      "metadata": {
        "id": "t1CL8tNFolTG",
        "colab": {
          "base_uri": "https://localhost:8080/"
        },
        "outputId": "5bc84239-c2b3-4361-c253-df6e77275f84"
      },
      "execution_count": null,
      "outputs": [
        {
          "output_type": "stream",
          "name": "stdout",
          "text": [
            "Silahkan masukan tinggi badan: 173\n",
            "tinggi anda rata-rata\n"
          ]
        }
      ]
    },
    {
      "cell_type": "code",
      "source": [
        "#Contoh percabangan 4 kondisi\n",
        "\n",
        "total = float(input(\"Total belanjaan: \"))\n",
        "if total > 250.000:\n",
        "   print(\"Bonus minyak 200ml\") #true\n",
        "elif total > 200.000:\n",
        "   print(\"Bonus kecap 200ml\") #true&false\n",
        "elif total > 150.000:\n",
        "   print(\"Bonu piring 1pcs\") #true false\n",
        "else:\n",
        "   print(\"Terimakasih sudah berbelanja ^^\")"
      ],
      "metadata": {
        "colab": {
          "base_uri": "https://localhost:8080/"
        },
        "id": "owxPbJSWnGnx",
        "outputId": "f422c7af-d133-4993-9959-f5183d0e100f"
      },
      "execution_count": 22,
      "outputs": [
        {
          "output_type": "stream",
          "name": "stdout",
          "text": [
            "Total belanjaan: 276.500\n",
            "Bonus minyak 200ml\n"
          ]
        }
      ]
    },
    {
      "cell_type": "code",
      "source": [
        "#Contoh pecabangan 5 kondisi\n",
        "\n",
        "umur = int(input(\"Silahkan masukan umur anda:\"))\n",
        "if umur <= 3:\n",
        "   print(\"anda masih bayi/balita\") #true\n",
        "elif umur <= 6:\n",
        "   print(\"anda masih anak-anak\") #true&false\n",
        "elif umur <= 18:\n",
        "   print(\"anda sudah remaja\")  #true&false\n",
        "elif umur <= 40:\n",
        "   print(\"anda sudah ewasa\")  #true&false\n",
        "else:\n",
        "   print(\"anda sudah lansia\") #false"
      ],
      "metadata": {
        "id": "ZHM2tkD7sIsB",
        "colab": {
          "base_uri": "https://localhost:8080/"
        },
        "outputId": "7747f47b-e6f7-4e23-a16f-6dba55851346"
      },
      "execution_count": 23,
      "outputs": [
        {
          "output_type": "stream",
          "name": "stdout",
          "text": [
            "Silahkan masukan umur anda:16\n",
            "anda sudah remaja\n"
          ]
        }
      ]
    },
    {
      "cell_type": "code",
      "source": [
        "#Contoh percabangan 6 kondisi\n",
        "\n",
        "hari = str(input(\"Hari apa ini ?: \"))\n",
        "if hari == 'Senin':\n",
        "   print(\"Jadwal workout\") #true\n",
        "elif hari == 'Selasa':\n",
        "   print(\"Jadwal eskul SC\")  #true&false\n",
        "elif hari == 'Rabu':\n",
        "   print(\"Jadwal Piket\")  #true&false\n",
        "elif hari == 'Kamis':\n",
        "   print(\"Jadwal Praktik\")  #true&false\n",
        "elif hari == \"Jum'at\":\n",
        "   print(\"Jadwal eskul basket\")  #true&false\n",
        "else:\n",
        "   print(\"libur\") #false"
      ],
      "metadata": {
        "colab": {
          "base_uri": "https://localhost:8080/"
        },
        "id": "X-5XQpp593hH",
        "outputId": "f90adfe6-f0d3-4bac-f967-6e276f783c99"
      },
      "execution_count": null,
      "outputs": [
        {
          "output_type": "stream",
          "name": "stdout",
          "text": [
            "Hari apa ini ?: Kamis\n",
            "Jadwal Praktik\n"
          ]
        }
      ]
    },
    {
      "cell_type": "code",
      "source": [
        "#Contoh percabangan 7 kondisi\n",
        "\n",
        "nilai = int(input(\"Masukkan hasil tes: \"))\n",
        "if nilai >= 90:\n",
        "   print(\"Grade = A+\")  #true\n",
        "elif nilai >= 85:\n",
        "   print(\"Grade = A\")  #true&false\n",
        "elif nilai >= 80:\n",
        "   print(\"Grade = A-\")  #true&false\n",
        "elif nilai >= 75:\n",
        "   print(\"Grade = B\")  #true&false\n",
        "elif nilai >= 70:\n",
        "   print(\"Grade = C\")  #true&false\n",
        "elif nilai >= 60:\n",
        "   print(\"Grade = D\")  #true&false\n",
        "else:\n",
        "   print(\"Grade = E\")  #false"
      ],
      "metadata": {
        "colab": {
          "base_uri": "https://localhost:8080/"
        },
        "id": "vaBedyp4182E",
        "outputId": "bb2513c4-ff2c-4bad-f107-0eb33370d4a6"
      },
      "execution_count": null,
      "outputs": [
        {
          "output_type": "stream",
          "name": "stdout",
          "text": [
            "Masukkan hasil tes: 98\n",
            "Grade = A+\n"
          ]
        }
      ]
    },
    {
      "cell_type": "markdown",
      "source": [
        "**Note** :\n",
        "- \"Kondisi dalam percabangan python dihitung dari seberapa banyak if, elif, dan else yang digunakan.\"\n",
        "- \"if hanya dapat memiliki 1 else.\"\n",
        "- \"else if/elif bisa dipakai berkali-kali untuk melanjutkan atau meluaskan if awal.\""
      ],
      "metadata": {
        "id": "6v1c2vK02HGt"
      }
    }
  ]
}