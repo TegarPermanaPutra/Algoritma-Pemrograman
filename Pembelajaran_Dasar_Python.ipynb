{
  "nbformat": 4,
  "nbformat_minor": 0,
  "metadata": {
    "colab": {
      "provenance": [],
      "authorship_tag": "ABX9TyNTnMfR4w3rk0gssm8iyiav",
      "include_colab_link": true
    },
    "kernelspec": {
      "name": "python3",
      "display_name": "Python 3"
    },
    "language_info": {
      "name": "python"
    }
  },
  "cells": [
    {
      "cell_type": "markdown",
      "metadata": {
        "id": "view-in-github",
        "colab_type": "text"
      },
      "source": [
        "<a href=\"https://colab.research.google.com/github/TegarPermanaPutra/Algoritma-Pemrograman/blob/main/Pembelajaran_Dasar_Python.ipynb\" target=\"_parent\"><img src=\"https://colab.research.google.com/assets/colab-badge.svg\" alt=\"Open In Colab\"/></a>"
      ]
    },
    {
      "cell_type": "markdown",
      "source": [
        "\n",
        "#IF and ELSE\n",
        "\n",
        "If dan else adalah kata kunci yang digunakan untuk membuat suatu pernyataan kondisional. Pernyataan if-else digunakan untuk mengeksekusi bagian true dan false dari suatu kondisi."
      ],
      "metadata": {
        "id": "mlTkidgwUO1Q"
      }
    },
    {
      "cell_type": "code",
      "source": [
        "#Contoh if dan else\n",
        "\n",
        "nilai = int(input(\"Masukan nilai: \"))\n",
        "if nilai >= 75: #true\n",
        "    print(\"nilai anda diatas KKM\")\n",
        "else: #false\n",
        "    print(\"nilai anda dibawah KKM\")"
      ],
      "metadata": {
        "colab": {
          "base_uri": "https://localhost:8080/"
        },
        "id": "iVivu1hhNF4I",
        "outputId": "fd6fc817-e4e2-4f27-f880-3a15292cc6a6"
      },
      "execution_count": 117,
      "outputs": [
        {
          "output_type": "stream",
          "name": "stdout",
          "text": [
            "Masukan nilai: 95\n",
            "nilai anda diatas KKM\n"
          ]
        }
      ]
    },
    {
      "cell_type": "markdown",
      "source": [
        "\n",
        "#VARIABLE\n",
        "\n",
        "Variable dalam pemrograman adalah nama yang diberikan kepada tempat penyimpan sebuah nilai."
      ],
      "metadata": {
        "id": "iHlGo1reUacn"
      }
    },
    {
      "cell_type": "code",
      "source": [
        "#Variable\n",
        "\n",
        "a = 10 #nilai tipe int\n",
        "b = \"Albert\"  #nilai tipe str\n",
        "c = 1.2  #nilai tipe float\n",
        "print (a)\n",
        "print (b)\n",
        "print (c)"
      ],
      "metadata": {
        "colab": {
          "base_uri": "https://localhost:8080/"
        },
        "id": "R-hMefvjFNIw",
        "outputId": "7d9d3e38-f00f-4ebc-e61e-eeb8c4c7480e"
      },
      "execution_count": 118,
      "outputs": [
        {
          "output_type": "stream",
          "name": "stdout",
          "text": [
            "10\n",
            "Albert\n",
            "1.2\n"
          ]
        }
      ]
    },
    {
      "cell_type": "markdown",
      "source": [
        "\n",
        "#CASTING\n",
        "\n",
        "Casting dalam Python adalah proses mengubah nilai dari satu tipe data ke tipe data lain."
      ],
      "metadata": {
        "id": "nBEzp-wKYhh-"
      }
    },
    {
      "cell_type": "code",
      "source": [
        "\n",
        "#Variable menggunakan casting\n",
        "\n",
        "x = int (5)\n",
        "y = str (6)\n",
        "z = float (7)\n",
        "print (x)\n",
        "print (y)\n",
        "print (z)"
      ],
      "metadata": {
        "colab": {
          "base_uri": "https://localhost:8080/"
        },
        "id": "FzfcdUAqGvPZ",
        "outputId": "6826b963-7eb6-4cc2-9494-150b5b7596fa"
      },
      "execution_count": null,
      "outputs": [
        {
          "output_type": "stream",
          "name": "stdout",
          "text": [
            "5\n",
            "6\n",
            "7.0\n"
          ]
        }
      ]
    },
    {
      "cell_type": "code",
      "source": [
        "#Contoh string (str)\n",
        "\n",
        "x = \"Zetsu\"\n",
        "y = 'Zetsu'\n",
        "print (x)\n",
        "print (y)"
      ],
      "metadata": {
        "colab": {
          "base_uri": "https://localhost:8080/"
        },
        "id": "skCyxlB2Kkhq",
        "outputId": "d58ac63b-890c-4713-b89a-b0a6713b98ca"
      },
      "execution_count": null,
      "outputs": [
        {
          "output_type": "stream",
          "name": "stdout",
          "text": [
            "Zetsu\n",
            "Zetsu\n"
          ]
        }
      ]
    },
    {
      "cell_type": "markdown",
      "source": [
        "#HOROSCOPE GENERATOR\n",
        "\n",
        "Penyocokan atau horoskop dalam python adalah skrip yang memilih blok teks secara acak dan menyatukannya."
      ],
      "metadata": {
        "id": "yOMANb-0WbUQ"
      }
    },
    {
      "cell_type": "code",
      "source": [
        " #Program study kasus kecocokan berteman\n",
        "\n",
        "a = input (\"Masukan nama teman pertama : \")\n",
        "b = input (\"Masukan nama teman kedua : \")\n",
        "print (\"Berdasarkan hasil survei :\",a ,\" dan \",b ,\" adalah teman yang cocok\")"
      ],
      "metadata": {
        "colab": {
          "base_uri": "https://localhost:8080/"
        },
        "id": "_WOZyMA-H7UL",
        "outputId": "8716fa7c-6539-4855-d479-7c137bbdcf5f"
      },
      "execution_count": 119,
      "outputs": [
        {
          "output_type": "stream",
          "name": "stdout",
          "text": [
            "Masukan nama teman pertama : Tegar\n",
            "Masukan nama teman kedua : Izzan\n",
            "Berdasarkan hasil survei : Tegar  dan  Izzan  adalah teman yang cocok\n"
          ]
        }
      ]
    },
    {
      "cell_type": "code",
      "source": [
        "#Study kasus pada aplikasi horoscrop\n",
        "\n",
        "a = input (\"Masukan nama pasangan 1 : \")\n",
        "b = input (\"Masukan nama pasangan 2 : \")\n",
        "print (\"Berdasarkan hasil survei :\",a ,\" dan \",b ,\" adalah pasangan yang cocok\")"
      ],
      "metadata": {
        "colab": {
          "base_uri": "https://localhost:8080/"
        },
        "id": "wUccnxmxJiDG",
        "outputId": "7637cef1-a91e-426d-955c-355ced7dc5f7"
      },
      "execution_count": null,
      "outputs": [
        {
          "output_type": "stream",
          "name": "stdout",
          "text": [
            "Masukan nama pasangan 1 : Edo\n",
            "Masukan nama pasangan 2 : Siti\n",
            "Berdasarkan hasil survei : Edo  dan  Siti  adalah pasangan yang cocok\n"
          ]
        }
      ]
    }
  ]
}