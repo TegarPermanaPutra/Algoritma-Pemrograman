{
  "nbformat": 4,
  "nbformat_minor": 0,
  "metadata": {
    "colab": {
      "provenance": [],
      "collapsed_sections": [
        "oj-_HcxqvDj6"
      ],
      "authorship_tag": "ABX9TyPayGUj11QCEOpoXZlTloq7",
      "include_colab_link": true
    },
    "kernelspec": {
      "name": "python3",
      "display_name": "Python 3"
    },
    "language_info": {
      "name": "python"
    }
  },
  "cells": [
    {
      "cell_type": "markdown",
      "metadata": {
        "id": "view-in-github",
        "colab_type": "text"
      },
      "source": [
        "<a href=\"https://colab.research.google.com/github/TegarPermanaPutra/Algoritma-Pemrograman/blob/main/Perulangan_looping_(Python).ipynb\" target=\"_parent\"><img src=\"https://colab.research.google.com/assets/colab-badge.svg\" alt=\"Open In Colab\"/></a>"
      ]
    },
    {
      "cell_type": "markdown",
      "source": [
        "#PERULANGAN (LOOPING)\n",
        "\n",
        "Secara umum perulangan atau looping pada python adalah sebuah intruksi/perintah kode program yang dapat dieksekusi secara berulang-ulang.\n",
        "\n",
        "Perulangan atau looping juga memiliki bebrapa model tipe yaitu :"
      ],
      "metadata": {
        "id": "PwDsbkG-oj-e"
      }
    },
    {
      "cell_type": "markdown",
      "source": [
        "#While Loop\n",
        "\n",
        "While loop adalah metode perulangan yang mengeksekusi blok kode secara berulang kali tanpa henti selama kondisinya masih terpenuhi \"true\", dan akan berhenti jika kondisinya tidak terpenuhi \"false\"."
      ],
      "metadata": {
        "id": "bvbvqmpMu92_"
      }
    },
    {
      "cell_type": "code",
      "execution_count": null,
      "metadata": {
        "id": "5CM2eu8HoeGC",
        "colab": {
          "base_uri": "https://localhost:8080/"
        },
        "outputId": "bec98213-11db-4cec-a5d1-3c26382c0d0f"
      },
      "outputs": [
        {
          "output_type": "stream",
          "name": "stdout",
          "text": [
            "Hello World 1\n",
            "Hello World 2\n",
            "Hello World 3\n",
            "Hello World 4\n",
            "Hello World 5\n",
            "Hello World 6\n",
            "Hello World 7\n",
            "Hello World 8\n",
            "Hello World 9\n",
            "Hello World 10\n"
          ]
        }
      ],
      "source": [
        "#contoh\n",
        "\n",
        "i = 1\n",
        "while i <= 10:\n",
        "   print(f\"Hello World {i}\")\n",
        "   i+=1"
      ]
    },
    {
      "cell_type": "markdown",
      "source": [
        "pada contoh di atas dijelaskan bahwa, pertama-tama kita harus menginisialisasi **i=1**, kemudian dilakukan perulangan dari **i=1** sampai nilai **i** kurang dari atau sama dengan 10. Ketika nilai variable conter **i** (variable yang berfungsi untuk menghitung/mengontrol jumlah perulangan yang di inginkan) sudah mencapai atau lebih dari 10, maka kondisi **i<=10** sudah tidak terpenuhi lagi **\"false\"** sehingga perulangan pun berhenti. Serta menggunakan **f** untuk menggabungkan antara (int) dan (str) pada print."
      ],
      "metadata": {
        "id": "mfY3c76Gy6mm"
      }
    },
    {
      "cell_type": "markdown",
      "source": [
        "\n",
        "#For Loop\n",
        "\n",
        "For loop adalah metode perulangan yang mengeksekusi blok kode berdasarkan jumlah elemen dalam suatu koleksi atau range tertentu."
      ],
      "metadata": {
        "id": "gG8CHFIxhRAD"
      }
    },
    {
      "cell_type": "code",
      "source": [
        "#contoh\n",
        "\n",
        "nilai = 5\n",
        "for i in range(nilai):\n",
        "   print(f\"urutan ke-{i}\")"
      ],
      "metadata": {
        "id": "-2BQCr4ShRf_",
        "colab": {
          "base_uri": "https://localhost:8080/"
        },
        "outputId": "7464010b-b8e3-44ab-9624-9b1a0a62b412"
      },
      "execution_count": null,
      "outputs": [
        {
          "output_type": "stream",
          "name": "stdout",
          "text": [
            "urutan ke-0\n",
            "urutan ke-1\n",
            "urutan ke-2\n",
            "urutan ke-3\n",
            "urutan ke-4\n"
          ]
        }
      ]
    },
    {
      "cell_type": "markdown",
      "source": [
        "Pada contoh di atas, pertama-tama kita diharuskan untuk menentukan seberapa banyak perulangannya, yaitu sebanyak 5 kali. kemudian variable **i** berfungsi untuk menampung **indeks dan range** yang berfungsi untuk membuat list range dari 0-4. Serta untuk menggabungkan antara tipe data intijer **(int)** dan string **(str)** pada umumnya menggunakan **f**  pada print."
      ],
      "metadata": {
        "id": "dkFoWeQs3qhf"
      }
    },
    {
      "cell_type": "markdown",
      "source": [
        "#Nested Loop\n",
        "\n",
        "Nested loop atau perulangan bercabang adalah metode pengulangan yang memperbolehkan pengguna untuk membuat sebuah pengulangan didalam pengulangan (loop in loop)."
      ],
      "metadata": {
        "id": "oj-_HcxqvDj6"
      }
    },
    {
      "cell_type": "code",
      "source": [
        "#contoh\n",
        "\n",
        "for x in range(4):\n",
        "   print('outer loop [x] =', x)\n",
        "for y in range(10):\n",
        "   print('inner loop [x, y] =', str(x) + ', ' + str(y))"
      ],
      "metadata": {
        "id": "6Wpkg0IrvJiw",
        "colab": {
          "base_uri": "https://localhost:8080/"
        },
        "outputId": "b2cfd824-b92f-42bc-cad1-1313f6daf120"
      },
      "execution_count": 2,
      "outputs": [
        {
          "output_type": "stream",
          "name": "stdout",
          "text": [
            "outer loop [x] = 0\n",
            "outer loop [x] = 1\n",
            "outer loop [x] = 2\n",
            "outer loop [x] = 3\n",
            "inner loop [x, y] = 3, 0\n",
            "inner loop [x, y] = 3, 1\n",
            "inner loop [x, y] = 3, 2\n",
            "inner loop [x, y] = 3, 3\n",
            "inner loop [x, y] = 3, 4\n",
            "inner loop [x, y] = 3, 5\n",
            "inner loop [x, y] = 3, 6\n",
            "inner loop [x, y] = 3, 7\n",
            "inner loop [x, y] = 3, 8\n",
            "inner loop [x, y] = 3, 9\n"
          ]
        }
      ]
    },
    {
      "cell_type": "markdown",
      "source": [
        "pada contoh diatas ini diperlihatkan perulagan dalam perulangan (loop in loop) dalam suatu program dimana ada perulangan luar sebanyak 4 kali dan perulangan dalam sebanyak 10 kali."
      ],
      "metadata": {
        "id": "pPX7oSzK-JOe"
      }
    }
  ]
}